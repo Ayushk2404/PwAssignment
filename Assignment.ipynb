{
 "cells": [
  {
   "cell_type": "code",
   "execution_count": 1,
   "id": "f328816e-02b6-4736-84b5-ef070e172f09",
   "metadata": {},
   "outputs": [],
   "source": [
    "#Q 1.\n",
    "my_string = \"Aman\"\n",
    "my_list = [1, 2, \"Aman Yadav\", \"Ayush\"]\n",
    "my_float = 1.2\n",
    "my_tuple = (1,2, 3 ,4)"
   ]
  },
  {
   "cell_type": "code",
   "execution_count": 2,
   "id": "50c13727-db6f-48ab-9471-b2ffda43dd71",
   "metadata": {},
   "outputs": [],
   "source": [
    "#Q 2\n",
    "# 1. empty string\n",
    "# 2. string\n",
    "# 3. list\n",
    "# 4. integer"
   ]
  },
  {
   "cell_type": "code",
   "execution_count": 5,
   "id": "e1794a27-a697-44ca-b08d-fe10fe68866a",
   "metadata": {},
   "outputs": [
    {
     "name": "stdout",
     "output_type": "stream",
     "text": [
      "1.5\n",
      "1\n",
      "1\n",
      "8\n"
     ]
    }
   ],
   "source": [
    "# Q-3\n",
    "#1 . / It's a divide opertor which return a decimal value\n",
    "num = 3/2\n",
    "print(num)\n",
    "# 2. % is a modulo operator which reutrn only remainder\n",
    "num1 = 3 % 2 \n",
    "print(num1)\n",
    "# 3. // is a floor division which return the integer after division\n",
    "num2 = 3//2\n",
    "print(num2)\n",
    "# 4. ** Exponentiation  operator returns a to the power b\n",
    "num3 = 2**3\n",
    "print(num3)"
   ]
  },
  {
   "cell_type": "code",
   "execution_count": 7,
   "id": "f281f2e1-8d6f-4c41-93d5-46f911201be5",
   "metadata": {},
   "outputs": [
    {
     "name": "stdout",
     "output_type": "stream",
     "text": [
      "aman <class 'str'>\n",
      "12 <class 'int'>\n",
      "ayush <class 'str'>\n",
      "15 <class 'int'>\n",
      "rohit <class 'str'>\n",
      "47 <class 'int'>\n",
      "mohit <class 'str'>\n",
      "37 <class 'int'>\n",
      "True <class 'bool'>\n",
      "False <class 'bool'>\n"
     ]
    }
   ],
   "source": [
    "#Q4\n",
    "items = [\"Shailesh\", 12, \"ayush\", 15, \"Suraj\",47, \"Mohit\",37, True, False] \n",
    "for i in items:\n",
    "    print(i ,  type(i))"
   ]
  },
  {
   "cell_type": "code",
   "execution_count": null,
   "id": "89c1c6d2-2695-401c-b631-599d297e28a0",
   "metadata": {},
   "outputs": [
    {
     "name": "stdin",
     "output_type": "stream",
     "text": [
      "input the first number 8\n",
      "input the second number 2\n"
     ]
    },
    {
     "name": "stdout",
     "output_type": "stream",
     "text": [
      "it is divisble 3 times\n"
     ]
    }
   ],
   "source": [
    "# Q5\n",
    "num1 = int(input(\"input the first number\")) \n",
    "num2 = int(input(\"input the second number\")) \n",
    "count = 0\n",
    "if num1 % num2 != 0:\n",
    "    print(\"not divisible\") \n",
    "else:\n",
    "    while num1 % num2 == 0:\n",
    "        num1 = num1 / num2\n",
    "        count +=1\n",
    "    print(\"it is divisble\" , count, \"times\")"
   ]
  },
  {
   "cell_type": "code",
   "execution_count": 19,
   "id": "815ddbf1-4983-4809-8f89-61f8a80d19df",
   "metadata": {},
   "outputs": [
    {
     "name": "stdout",
     "output_type": "stream",
     "text": [
      "1  is not divisibel by 3\n",
      "2  is not divisibel by 3\n",
      "3  is divsible by 3\n",
      "4  is not divisibel by 3\n",
      "5  is not divisibel by 3\n",
      "6  is divsible by 3\n",
      "7  is not divisibel by 3\n",
      "8  is not divisibel by 3\n",
      "9  is divsible by 3\n",
      "10  is not divisibel by 3\n",
      "11  is not divisibel by 3\n",
      "12  is divsible by 3\n",
      "13  is not divisibel by 3\n",
      "14  is not divisibel by 3\n",
      "15  is divsible by 3\n",
      "16  is not divisibel by 3\n",
      "17  is not divisibel by 3\n",
      "18  is divsible by 3\n",
      "19  is not divisibel by 3\n",
      "20  is not divisibel by 3\n",
      "21  is divsible by 3\n",
      "22  is not divisibel by 3\n",
      "23  is not divisibel by 3\n",
      "24  is divsible by 3\n",
      "25  is not divisibel by 3\n"
     ]
    }
   ],
   "source": [
    "#Q6\n",
    "int_list = [1,2,3,4,5,6,7,8,9,10,11,12,13,14,15,16,17,18,19,20,21,22,23,24,25]\n",
    "for i in int_list:\n",
    "    if i% 3== 0:\n",
    "        print(i, \" is divsible by 3\")\n",
    "    else:\n",
    "         print(i , \" is not divisibel by 3\")"
   ]
  },
  {
   "cell_type": "code",
   "execution_count": 20,
   "id": "176f27e4-54ac-490f-ba8c-d1117b5a8014",
   "metadata": {},
   "outputs": [
    {
     "name": "stdout",
     "output_type": "stream",
     "text": [
      "List after appending a value =  [1, 2, 3, 4, 5, 10]\n",
      "The memory address of int before updating:  139886978057200\n",
      "The memory address of int after updating:  139886978057520\n"
     ]
    }
   ],
   "source": [
    "#Q 7\n",
    "# Mutable -:\n",
    "#A mutable object can be changed after it is created #Example :\n",
    "my_list = [1,2,3,4,5]\n",
    "my_list.append(10)\n",
    "print(\"List after appending a value = \",my_list)\n",
    "# Immutable -:\n",
    "#  An immutable object cannot be changed after it is created\n",
    "my_number = 25\n",
    "print('The memory address of int before updating: ', id(my_number))\n",
    "my_number = 35\n",
    "print('The memory address of int after updating: ', id(my_number))"
   ]
  },
  {
   "cell_type": "code",
   "execution_count": null,
   "id": "f1c6c118-b40e-452b-8142-05a6afb00ce6",
   "metadata": {},
   "outputs": [],
   "source": []
  }
 ],
 "metadata": {
  "kernelspec": {
   "display_name": "Python 3 (ipykernel)",
   "language": "python",
   "name": "python3"
  },
  "language_info": {
   "codemirror_mode": {
    "name": "ipython",
    "version": 3
   },
   "file_extension": ".py",
   "mimetype": "text/x-python",
   "name": "python",
   "nbconvert_exporter": "python",
   "pygments_lexer": "ipython3",
   "version": "3.10.8"
  }
 },
 "nbformat": 4,
 "nbformat_minor": 5
}
